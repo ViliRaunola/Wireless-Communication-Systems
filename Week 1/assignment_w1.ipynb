{
  "cells": [
    {
      "cell_type": "markdown",
      "metadata": {
        "collapsed": true
      },
      "source": [
        "# BL40A2020 Wireless Communication Systems\n",
        "\n",
        "## Assignment  week 1: Signals and systems\n",
        "\n",
        "## Author: Vili Raunola"
      ]
    },
    {
      "cell_type": "markdown",
      "metadata": {},
      "source": [
        "*Objective:* The goal of this assignment is to get used to scientific computing using python and its libraries. So, *do not make the calculations by hand*.\n",
        "\n",
        "*Suggestion:* Follow the lecture notes in GitHub\n",
        "\n",
        "**Consider the following function $$s (t) = 2 e^{-t} \\cos(2\\pi t).$$**\n",
        "\n",
        "**Using sympy (or numpy or scipy), do the following tasks**\n",
        "\n",
        "- Define the function."
      ]
    },
    {
      "cell_type": "markdown",
      "metadata": {},
      "source": [
        "Installing libraries"
      ]
    },
    {
      "cell_type": "code",
      "execution_count": 3,
      "metadata": {
        "trusted": true
      },
      "outputs": [
        {
          "name": "stdout",
          "output_type": "stream",
          "text": [
            "Requirement already satisfied: numpy in g:\\anaconda\\lib\\site-packages (1.26.1)\n",
            "Requirement already satisfied: matplotlib in g:\\anaconda\\lib\\site-packages (3.8.0)\n",
            "Requirement already satisfied: contourpy>=1.0.1 in g:\\anaconda\\lib\\site-packages (from matplotlib) (1.0.5)\n",
            "Requirement already satisfied: cycler>=0.10 in g:\\anaconda\\lib\\site-packages (from matplotlib) (0.11.0)\n",
            "Requirement already satisfied: fonttools>=4.22.0 in g:\\anaconda\\lib\\site-packages (from matplotlib) (4.25.0)\n",
            "Requirement already satisfied: kiwisolver>=1.0.1 in g:\\anaconda\\lib\\site-packages (from matplotlib) (1.4.4)\n",
            "Requirement already satisfied: numpy<2,>=1.21 in g:\\anaconda\\lib\\site-packages (from matplotlib) (1.26.1)\n",
            "Requirement already satisfied: packaging>=20.0 in g:\\anaconda\\lib\\site-packages (from matplotlib) (23.1)\n",
            "Requirement already satisfied: pillow>=6.2.0 in g:\\anaconda\\lib\\site-packages (from matplotlib) (9.4.0)\n",
            "Requirement already satisfied: pyparsing>=2.3.1 in g:\\anaconda\\lib\\site-packages (from matplotlib) (3.0.9)\n",
            "Requirement already satisfied: python-dateutil>=2.7 in g:\\anaconda\\lib\\site-packages (from matplotlib) (2.8.2)\n",
            "Requirement already satisfied: six>=1.5 in g:\\anaconda\\lib\\site-packages (from python-dateutil>=2.7->matplotlib) (1.16.0)\n",
            "Requirement already satisfied: sympy in g:\\anaconda\\lib\\site-packages (1.12)\n",
            "Requirement already satisfied: mpmath>=0.19 in g:\\anaconda\\lib\\site-packages (from sympy) (1.3.0)\n"
          ]
        }
      ],
      "source": [
        "#install missing libraries\n",
        "! pip install --upgrade numpy\n",
        "! pip install --upgrade matplotlib\n",
        "! pip install --upgrade sympy"
      ]
    },
    {
      "cell_type": "markdown",
      "metadata": {},
      "source": [
        "Imports and styling options"
      ]
    },
    {
      "cell_type": "code",
      "execution_count": 4,
      "metadata": {},
      "outputs": [],
      "source": [
        "#For numerical calculation\n",
        "import numpy as np\n",
        "#Plot\n",
        "import matplotlib.pyplot as plt\n",
        "#Symbolic calculation\n",
        "import sympy as sp\n",
        "#Improve visualization\n",
        "sp.init_printing() \n",
        "from matplotlib import style\n",
        "style.use('bmh')\n",
        "plt.rcParams['figure.figsize'] = 16, 6\n",
        "#Not to show warning messages (to keep the notebook clean)\n",
        "import warnings\n",
        "warnings.filterwarnings('ignore')"
      ]
    },
    {
      "cell_type": "markdown",
      "metadata": {},
      "source": [
        "Define symbolic variable t"
      ]
    },
    {
      "cell_type": "code",
      "execution_count": 5,
      "metadata": {},
      "outputs": [],
      "source": [
        "t = sp.symbols('t')"
      ]
    },
    {
      "cell_type": "markdown",
      "metadata": {},
      "source": [
        "Creating the function"
      ]
    },
    {
      "cell_type": "code",
      "execution_count": 10,
      "metadata": {},
      "outputs": [
        {
          "data": {
            "image/png": "[encoded data removed]",
            "text/latex": [
              "$\\displaystyle 2 e^{- t} \\cos{\\left(2 \\pi t \\right)}$"
            ],
            "text/plain": [
              "   -t           \n",
              "2⋅ℯ  ⋅cos(2⋅π⋅t)"
            ]
          },
          "execution_count": 10,
          "metadata": {},
          "output_type": "execute_result"
        }
      ],
      "source": [
        "fun = 2 * sp.exp(-1*t) * sp.cos(2*sp.pi*t)\n",
        "fun"
      ]
    },
    {
      "cell_type": "markdown",
      "metadata": {},
      "source": [
        "- $\\mathrm{d}s/\\mathrm{d}t$"
      ]
    },
    {
      "cell_type": "code",
      "execution_count": 16,
      "metadata": {
        "trusted": true
      },
      "outputs": [
        {
          "data": {
            "image/png": "[encoded data removed]",
            "text/latex": [
              "$\\displaystyle - 4 \\pi e^{- t} \\sin{\\left(2 \\pi t \\right)} - 2 e^{- t} \\cos{\\left(2 \\pi t \\right)}$"
            ],
            "text/plain": [
              "       -t                 -t           \n",
              "- 4⋅π⋅ℯ  ⋅sin(2⋅π⋅t) - 2⋅ℯ  ⋅cos(2⋅π⋅t)"
            ]
          },
          "execution_count": 16,
          "metadata": {},
          "output_type": "execute_result"
        }
      ],
      "source": [
        "fun_der = sp.derive_by_array(fun, t)\n",
        "fun_der"
      ]
    },
    {
      "cell_type": "markdown",
      "metadata": {},
      "source": [
        "- $\\int s(t) \\mathrm{d}t$"
      ]
    },
    {
      "cell_type": "code",
      "execution_count": 17,
      "metadata": {
        "trusted": true
      },
      "outputs": [
        {
          "data": {
            "image/png": "[encoded data removed]",
            "text/latex": [
              "$\\displaystyle \\frac{4 \\pi \\sin{\\left(2 \\pi t \\right)}}{e^{t} + 4 \\pi^{2} e^{t}} - \\frac{2 \\cos{\\left(2 \\pi t \\right)}}{e^{t} + 4 \\pi^{2} e^{t}}$"
            ],
            "text/plain": [
              "4⋅π⋅sin(2⋅π⋅t)   2⋅cos(2⋅π⋅t)\n",
              "────────────── - ────────────\n",
              "  t      2  t     t      2  t\n",
              " ℯ  + 4⋅π ⋅ℯ     ℯ  + 4⋅π ⋅ℯ "
            ]
          },
          "execution_count": 17,
          "metadata": {},
          "output_type": "execute_result"
        }
      ],
      "source": [
        "fun_int = sp.integrate(fun, t)\n",
        "fun_int"
      ]
    },
    {
      "cell_type": "markdown",
      "metadata": {},
      "source": [
        "- Plot the three signals together."
      ]
    },
    {
      "cell_type": "code",
      "execution_count": null,
      "metadata": {
        "trusted": true
      },
      "outputs": [],
      "source": []
    },
    {
      "cell_type": "markdown",
      "metadata": {},
      "source": [
        "- Fourier tranform of $S(w) = \\mathcal{F} \\left\\{s(t) u(t)\\right\\},$ where $u(t)$ is the step function."
      ]
    },
    {
      "cell_type": "code",
      "execution_count": null,
      "metadata": {
        "trusted": true
      },
      "outputs": [],
      "source": []
    },
    {
      "cell_type": "markdown",
      "metadata": {},
      "source": [
        "- Plot the real part of $S(w), \\; -5 \\leq w \\leq 5$"
      ]
    },
    {
      "cell_type": "code",
      "execution_count": null,
      "metadata": {
        "trusted": true
      },
      "outputs": [],
      "source": []
    },
    {
      "cell_type": "markdown",
      "metadata": {},
      "source": [
        "- Plot the imaginary part of $S(w), \\; -5 \\leq w \\leq 5$"
      ]
    },
    {
      "cell_type": "code",
      "execution_count": null,
      "metadata": {
        "trusted": true
      },
      "outputs": [],
      "source": []
    },
    {
      "cell_type": "markdown",
      "metadata": {},
      "source": [
        "- Plot the absolute value of $S(w), \\; -5 \\leq w \\leq 5$"
      ]
    },
    {
      "cell_type": "code",
      "execution_count": null,
      "metadata": {
        "trusted": true
      },
      "outputs": [],
      "source": []
    },
    {
      "cell_type": "markdown",
      "metadata": {},
      "source": [
        "- Plot the phase of $S(w), \\; -5 \\leq w \\leq 5$"
      ]
    },
    {
      "cell_type": "code",
      "execution_count": null,
      "metadata": {
        "trusted": true
      },
      "outputs": [],
      "source": []
    }
  ],
  "metadata": {
    "kernelspec": {
      "display_name": "base",
      "language": "python",
      "name": "python3"
    },
    "language_info": {
      "codemirror_mode": {
        "name": "ipython",
        "version": 3
      },
      "file_extension": ".py",
      "mimetype": "text/x-python",
      "name": "python",
      "nbconvert_exporter": "python",
      "pygments_lexer": "ipython3",
      "version": "3.11.5"
    }
  },
  "nbformat": 4,
  "nbformat_minor": 2
}
